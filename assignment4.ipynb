{
 "cells": [
  {
   "cell_type": "markdown",
   "metadata": {
    "deletable": false,
    "editable": false,
    "nbgrader": {
     "checksum": "48770f8b5f5d3062d3badd51fcafc401",
     "grade": false,
     "grade_id": "cell-a6c4f74309fc2379",
     "locked": true,
     "schema_version": 1,
     "solution": false
    }
   },
   "source": [
    "# Assignment 4\n",
    "## Description\n",
    "In this assignment you must read in a file of metropolitan regions and associated sports teams from [assets/wikipedia_data.html](assets/wikipedia_data.html) and answer some questions about each metropolitan region. Each of these regions may have one or more teams from the \"Big 4\": NFL (football, in [assets/nfl.csv](assets/nfl.csv)), MLB (baseball, in [assets/mlb.csv](assets/mlb.csv)), NBA (basketball, in [assets/nba.csv](assets/nba.csv) or NHL (hockey, in [assets/nhl.csv](assets/nhl.csv)). Please keep in mind that all questions are from the perspective of the metropolitan region, and that this file is the \"source of authority\" for the location of a given sports team. Thus teams which are commonly known by a different area (e.g. \"Oakland Raiders\") need to be mapped into the metropolitan region given (e.g. San Francisco Bay Area). This will require some human data understanding outside of the data you've been given (e.g. you will have to hand-code some names, and might need to google to find out where teams are)!\n",
    "\n",
    "For each sport I would like you to answer the question: **what is the win/loss ratio's correlation with the population of the city it is in?** Win/Loss ratio refers to the number of wins over the number of wins plus the number of losses. Remember that to calculate the correlation with [`pearsonr`](https://docs.scipy.org/doc/scipy/reference/generated/scipy.stats.pearsonr.html), so you are going to send in two ordered lists of values, the populations from the wikipedia_data.html file and the win/loss ratio for a given sport in the same order. Average the win/loss ratios for those cities which have multiple teams of a single sport. Each sport is worth an equal amount in this assignment (20%\\*4=80%) of the grade for this assignment. You should only use data **from year 2018** for your analysis -- this is important!\n",
    "\n",
    "## Notes\n",
    "\n",
    "1. Do not include data about the MLS or CFL in any of the work you are doing, we're only interested in the Big 4 in this assignment.\n",
    "2. I highly suggest that you first tackle the four correlation questions in order, as they are all similar and worth the majority of grades for this assignment. This is by design!\n",
    "3. It's fair game to talk with peers about high level strategy as well as the relationship between metropolitan areas and sports teams. However, do not post code solving aspects of the assignment (including such as dictionaries mapping areas to teams, or regexes which will clean up names).\n",
    "4. There may be more teams than the assert statements test, remember to collapse multiple teams in one city into a single value!"
   ]
  },
  {
   "cell_type": "markdown",
   "metadata": {
    "deletable": false,
    "editable": false,
    "nbgrader": {
     "checksum": "369ff9ecf0ee04640574205cbc697f94",
     "grade": false,
     "grade_id": "cell-712b2b5da63d4505",
     "locked": true,
     "schema_version": 1,
     "solution": false
    }
   },
   "source": [
    "## Question 1\n",
    "For this question, calculate the win/loss ratio's correlation with the population of the city it is in for the **NHL** using **2018** data."
   ]
  },
  {
   "cell_type": "code",
   "execution_count": 1,
   "metadata": {
    "deletable": false,
    "nbgrader": {
     "checksum": "1cac4803b02502929f5b1612d48db2b5",
     "grade": false,
     "grade_id": "cell-69b16e4386e58030",
     "locked": false,
     "schema_version": 1,
     "solution": true
    },
    "scrolled": true
   },
   "outputs": [
    {
     "data": {
      "text/plain": [
       "0.012486162921209912"
      ]
     },
     "execution_count": 1,
     "metadata": {},
     "output_type": "execute_result"
    }
   ],
   "source": [
    "import pandas as pd\n",
    "import numpy as np\n",
    "import scipy.stats as stats\n",
    "import re\n",
    "\n",
    "nhl_df=pd.read_csv(\"assets/nhl.csv\")\n",
    "cities=pd.read_html(\"assets/wikipedia_data.html\")[1]\n",
    "cities=cities.iloc[:-1,[0,3,5,6,7,8]]\n",
    "\n",
    "# cities data cleaning\n",
    "for x in range(2, 6):\n",
    "    cities.iloc[:, x] = cities.iloc[:, x].str.replace('\\s*\\[.*\\]','')\n",
    "    cities.iloc[:, x] = cities.iloc[:, x].str.replace(r'([a-z])([A-Z])', r'\\1 \\2')\n",
    "    cities.iloc[:, x] = cities.iloc[:, x].replace('—', np.NaN)\n",
    "    cities.iloc[:, x] = cities.iloc[:, x].replace('', np.NaN)\n",
    "cities['Population (2016 est.)[8]'] = cities['Population (2016 est.)[8]'].astype(int)\n",
    "    \n",
    "# cities dataset for nhl\n",
    "cities_nhl = cities.iloc[:, [1,5]]\n",
    "cities_nhl = cities_nhl.dropna(subset=['NHL'])\n",
    "    \n",
    "# nhl_df data cleaning\n",
    "nhl_df = nhl_df[nhl_df['year'] == 2018]\n",
    "nhl_df = nhl_df[['team', 'W', 'L']]\n",
    "nhl_df = nhl_df.drop([0, 9, 18, 26]).reset_index(drop = True)\n",
    "nhl_df['team'] = nhl_df['team'].str.replace('\\*', '')\n",
    "nhl_df['team'] = nhl_df['team'].str.replace('^[A-Z]\\S*\\s', '')\n",
    "nhl_df['team'] = nhl_df['team'].str.replace('^(Bay|Jersey|York|Louis|Jose|Angeles)\\s', '')\n",
    "nhl_df = nhl_df.set_index('team')\n",
    "nhl_df[['W', 'L']] = nhl_df[['W', 'L']].astype(int)\n",
    "nhl_df['W/L%'] = nhl_df['W']/(nhl_df['W'] +nhl_df['L'])\n",
    "nhl_df = nhl_df.drop(['W', 'L'], axis = 1)\n",
    "nhl_df = nhl_df.append(\n",
    "    pd.DataFrame(\n",
    "        [\n",
    "            [(nhl_df.at['Rangers', 'W/L%'] + nhl_df.at['Islanders', 'W/L%'] + nhl_df.at['Devils', 'W/L%'])/3],\n",
    "            [(nhl_df.at['Kings', 'W/L%'] + nhl_df.at['Ducks', 'W/L%'])/2]\n",
    "        ],\n",
    "        columns = ['W/L%'],\n",
    "        index = ['Rangers Islanders Devils', 'Kings Ducks']\n",
    "    )\n",
    ")\n",
    "nhl_df = nhl_df.drop(['Rangers', 'Islanders', 'Devils', 'Kings', 'Ducks']).reset_index().rename(columns = {'index' : 'NHL'})\n",
    "\n",
    "def nhl_correlation(): \n",
    "    result = pd.merge(cities_nhl, nhl_df, how = 'inner', on = 'NHL')\n",
    "    result = result.drop(['NHL'], axis = 1)\n",
    "    global nhl_df_final\n",
    "    nhl_df_final = result\n",
    "    \n",
    "    population_by_region = result['Population (2016 est.)[8]'] # pass in metropolitan area population from cities\n",
    "    win_loss_by_region = result['W/L%'] # pass in win/loss ratio from nhl_df in the same order as cities[\"Metropolitan area\"]\n",
    "\n",
    "    #return population_by_region\n",
    "    assert len(population_by_region) == len(win_loss_by_region), \"Q1: Your lists must be the same length\"\n",
    "    assert len(population_by_region) == 28, \"Q1: There should be 28 teams being analysed for NHL\"\n",
    "    \n",
    "    return stats.pearsonr(population_by_region, win_loss_by_region)[0]\n",
    "\n",
    "nhl_correlation()"
   ]
  },
  {
   "cell_type": "code",
   "execution_count": null,
   "metadata": {
    "deletable": false,
    "editable": false,
    "nbgrader": {
     "checksum": "52a581df513c71153e105b93764cda4b",
     "grade": true,
     "grade_id": "cell-ebe0b2dfe1067e63",
     "locked": true,
     "points": 20,
     "schema_version": 1,
     "solution": false
    }
   },
   "outputs": [],
   "source": []
  },
  {
   "cell_type": "markdown",
   "metadata": {
    "deletable": false,
    "editable": false,
    "nbgrader": {
     "checksum": "988912cae4968d81473f46d783e79c16",
     "grade": false,
     "grade_id": "cell-cb964e690298b71d",
     "locked": true,
     "schema_version": 1,
     "solution": false
    }
   },
   "source": [
    "## Question 2\n",
    "For this question, calculate the win/loss ratio's correlation with the population of the city it is in for the **NBA** using **2018** data."
   ]
  },
  {
   "cell_type": "code",
   "execution_count": 2,
   "metadata": {
    "deletable": false,
    "nbgrader": {
     "checksum": "9394222aafc8ccab0a228098ba0d6010",
     "grade": false,
     "grade_id": "cell-5a5f21279e3d3572",
     "locked": false,
     "schema_version": 1,
     "solution": true
    }
   },
   "outputs": [
    {
     "data": {
      "text/plain": [
       "-0.17636350642182938"
      ]
     },
     "execution_count": 2,
     "metadata": {},
     "output_type": "execute_result"
    }
   ],
   "source": [
    "nba_df=pd.read_csv(\"assets/nba.csv\")\n",
    "\n",
    "# cities dataset for nba\n",
    "cities_nba = cities.iloc[:, [1,4]]\n",
    "cities_nba = cities_nba.dropna(subset=['NBA']).reset_index(drop = True)\n",
    "    \n",
    "# nba_df data cleaning\n",
    "nba_df = nba_df[nba_df['year'] == 2018].reset_index()\n",
    "nba_df = nba_df[['team', 'W/L%']]\n",
    "nba_df['team'] = nba_df['team'].str.replace('\\**\\s\\(\\d+\\)$', '')\n",
    "nba_df['team'] = nba_df['team'].str.replace(r'(.*)(\\s)(\\w+)$', r'\\3')\n",
    "nba_df['team'] = nba_df['team'].str.replace(r'(.*)(\\s)(\\w+)$', r'\\3')\n",
    "nba_df.iat[17, 0] = 'Trail Blazers'\n",
    "nba_df['W/L%'] = pd.to_numeric(nba_df['W/L%'])\n",
    "nba_df = nba_df.set_index('team')\n",
    "nba_df = nba_df.append(\n",
    "    pd.DataFrame(\n",
    "        [\n",
    "            [(nba_df.at['Knicks', 'W/L%'] + nba_df.at['Nets', 'W/L%'])/2],\n",
    "            [(nba_df.at['Lakers', 'W/L%'] + nba_df.at['Clippers', 'W/L%'])/2]\n",
    "        ],\n",
    "        columns = ['W/L%'],\n",
    "        index = ['Knicks Nets', 'Lakers Clippers']\n",
    "    )\n",
    ")\n",
    "nba_df = nba_df.drop(['Knicks', 'Nets', 'Lakers', 'Clippers']).reset_index().rename(columns = {'index' : 'NBA'})\n",
    "\n",
    "def nba_correlation():\n",
    "    result = pd.merge(cities_nba, nba_df, how = 'inner', on = 'NBA')\n",
    "    result = result.drop(['NBA'], axis = 1)\n",
    "    global nba_df_final\n",
    "    nba_df_final = result\n",
    "    \n",
    "    population_by_region = result['Population (2016 est.)[8]'] # pass in metropolitan area population from cities\n",
    "    win_loss_by_region = result['W/L%'] # pass in win/loss ratio from nba_df in the same order as cities[\"Metropolitan area\"]\n",
    "\n",
    "    assert len(population_by_region) == len(win_loss_by_region), \"Q2: Your lists must be the same length\"\n",
    "    assert len(population_by_region) == 28, \"Q2: There should be 28 teams being analysed for NBA\"\n",
    "\n",
    "    return stats.pearsonr(population_by_region, win_loss_by_region)[0]\n",
    "\n",
    "nba_correlation()"
   ]
  },
  {
   "cell_type": "code",
   "execution_count": null,
   "metadata": {
    "deletable": false,
    "editable": false,
    "nbgrader": {
     "checksum": "bbdeb8eb22f525a34c10dc8798324e42",
     "grade": true,
     "grade_id": "cell-e573b2b4a282b470",
     "locked": true,
     "points": 20,
     "schema_version": 1,
     "solution": false
    }
   },
   "outputs": [],
   "source": []
  },
  {
   "cell_type": "markdown",
   "metadata": {
    "deletable": false,
    "editable": false,
    "nbgrader": {
     "checksum": "1a1a5809f675ca033086422007cd73bd",
     "grade": false,
     "grade_id": "cell-96e15e4335df78f4",
     "locked": true,
     "schema_version": 1,
     "solution": false
    }
   },
   "source": [
    "## Question 3\n",
    "For this question, calculate the win/loss ratio's correlation with the population of the city it is in for the **MLB** using **2018** data."
   ]
  },
  {
   "cell_type": "code",
   "execution_count": 3,
   "metadata": {
    "deletable": false,
    "nbgrader": {
     "checksum": "27e8c0da6c9fa0dffc10488314335b6c",
     "grade": false,
     "grade_id": "cell-33b00fc3f3467b0c",
     "locked": false,
     "schema_version": 1,
     "solution": true
    }
   },
   "outputs": [
    {
     "data": {
      "text/plain": [
       "0.15003737475409495"
      ]
     },
     "execution_count": 3,
     "metadata": {},
     "output_type": "execute_result"
    }
   ],
   "source": [
    "mlb_df=pd.read_csv(\"assets/mlb.csv\")\n",
    "\n",
    "#cities dataset for mlb\n",
    "cities_mlb = cities.iloc[:, [1,3]]\n",
    "cities_mlb = cities_mlb.dropna(subset=['MLB']).reset_index(drop = True)\n",
    "    \n",
    "# mlb_df data cleaning\n",
    "mlb_df = mlb_df[mlb_df['year'] == 2018].reset_index(drop = True)\n",
    "mlb_df = mlb_df[['team', 'W-L%']].rename(columns = {'W-L%':'W/L%'})\n",
    "mlb_df['team'] = mlb_df['team'].str.replace('^\\S+\\s', '')\n",
    "mlb_df['team'] = mlb_df['team'].str.replace('^(Bay|Jersey|York|Louis|Jose|Angeles|City|Diego|Francisco)\\s', '')\n",
    "mlb_df['W/L%'] = pd.to_numeric(mlb_df['W/L%'])\n",
    "mlb_df = mlb_df.set_index('team')\n",
    "mlb_df = mlb_df.append(\n",
    "    pd.DataFrame(\n",
    "        [\n",
    "            [(mlb_df.at['Yankees', 'W/L%'] + mlb_df.at['Mets', 'W/L%'])/2],\n",
    "            [(mlb_df.at['Dodgers', 'W/L%'] + mlb_df.at['Angels', 'W/L%'])/2],\n",
    "            [(mlb_df.at['Giants', 'W/L%'] + mlb_df.at['Athletics', 'W/L%'])/2],\n",
    "            [(mlb_df.at['Cubs', 'W/L%'] + mlb_df.at['White Sox', 'W/L%'])/2]\n",
    "        ],\n",
    "        columns = ['W/L%'],\n",
    "        index = ['Yankees Mets', 'Dodgers Angels', 'Giants Athletics', 'Cubs White Sox']\n",
    "    )\n",
    ")\n",
    "mlb_df = mlb_df.drop(['Yankees', 'Mets', 'Dodgers', 'Angels', 'Giants', 'Athletics', 'Cubs', 'White Sox']).reset_index().rename(columns = {'index' : 'MLB'})\n",
    "\n",
    "def mlb_correlation(): \n",
    "    result = pd.merge(cities_mlb, mlb_df, how = 'inner', on = 'MLB')\n",
    "    result = result.drop(['MLB'], axis = 1)\n",
    "    global mlb_df_final\n",
    "    mlb_df_final = result\n",
    "    \n",
    "    population_by_region = result['Population (2016 est.)[8]'] # pass in metropolitan area population from cities\n",
    "    win_loss_by_region = result['W/L%'] # pass in win/loss ratio from mlb_df in the same order as cities[\"Metropolitan area\"]\n",
    "\n",
    "    assert len(population_by_region) == len(win_loss_by_region), \"Q3: Your lists must be the same length\"\n",
    "    assert len(population_by_region) == 26, \"Q3: There should be 26 teams being analysed for MLB\"\n",
    "\n",
    "    return stats.pearsonr(population_by_region, win_loss_by_region)[0]\n",
    "\n",
    "mlb_correlation()"
   ]
  },
  {
   "cell_type": "code",
   "execution_count": null,
   "metadata": {
    "deletable": false,
    "editable": false,
    "nbgrader": {
     "checksum": "cda33b094ba19ccc37a481e0dd29e0bc",
     "grade": true,
     "grade_id": "cell-764d4476f425c5a2",
     "locked": true,
     "points": 20,
     "schema_version": 1,
     "solution": false
    }
   },
   "outputs": [],
   "source": []
  },
  {
   "cell_type": "markdown",
   "metadata": {
    "deletable": false,
    "editable": false,
    "nbgrader": {
     "checksum": "6977a6da9ed6d8b7a0b7e37bbeda709b",
     "grade": false,
     "grade_id": "cell-793df6c04dfb126e",
     "locked": true,
     "schema_version": 1,
     "solution": false
    }
   },
   "source": [
    "## Question 4\n",
    "For this question, calculate the win/loss ratio's correlation with the population of the city it is in for the **NFL** using **2018** data."
   ]
  },
  {
   "cell_type": "code",
   "execution_count": 4,
   "metadata": {
    "deletable": false,
    "nbgrader": {
     "checksum": "c4914ad1e119278ec2bd567c52640b66",
     "grade": false,
     "grade_id": "cell-8ccebc209aeec8d9",
     "locked": false,
     "schema_version": 1,
     "solution": true
    }
   },
   "outputs": [
    {
     "data": {
      "text/plain": [
       "0.004282141436393033"
      ]
     },
     "execution_count": 4,
     "metadata": {},
     "output_type": "execute_result"
    }
   ],
   "source": [
    "nfl_df=pd.read_csv(\"assets/nfl.csv\")\n",
    "\n",
    "# cities dataset for nfl\n",
    "cities_nfl = cities.iloc[:, 1:3]\n",
    "cities_nfl = cities_nfl.dropna(subset=['NFL']).reset_index(drop = True)\n",
    "    \n",
    "# nfl_df data cleaning\n",
    "nfl_df = nfl_df[nfl_df['year'] == 2018].reset_index(drop = True)\n",
    "\n",
    "nfl_df = nfl_df[nfl_df[\"team\"].str.contains(\"AFC\") == False]\n",
    "nfl_df = nfl_df[nfl_df[\"team\"].str.contains(\"NFC\") == False]\n",
    "nfl_df = nfl_df[['team', 'W-L%']].rename(columns = {'W-L%':'W/L%'})\n",
    "nfl_df['team'] = nfl_df['team'].str.replace('^\\S+\\s', '')\n",
    "nfl_df['team'] = nfl_df['team'].str.replace('\\W*$', '')\n",
    "nfl_df['team'] = nfl_df['team'].str.replace('^\\S+\\s', '')\n",
    "nfl_df['W/L%'] = pd.to_numeric(nfl_df['W/L%'])\n",
    "nfl_df = nfl_df.set_index('team')\n",
    "nfl_df = nfl_df.append(\n",
    "    pd.DataFrame(\n",
    "        [\n",
    "            [(nfl_df.at['Giants', 'W/L%'] + nfl_df.at['Jets', 'W/L%'])/2],\n",
    "            [(nfl_df.at['Rams', 'W/L%'] + nfl_df.at['Chargers', 'W/L%'])/2],\n",
    "            [(nfl_df.at['49ers', 'W/L%'] + nfl_df.at['Raiders', 'W/L%'])/2]\n",
    "        ],\n",
    "        columns = ['W/L%'],\n",
    "        index = ['Giants Jets', 'Rams Chargers', '49ers Raiders']\n",
    "    )\n",
    ")\n",
    "nfl_df = nfl_df.drop(['Giants', 'Jets', 'Rams', 'Chargers', '49ers', 'Raiders']).reset_index().rename(columns = {'index' : 'NFL'})\n",
    "\n",
    "def nfl_correlation(): \n",
    "    result = pd.merge(cities_nfl, nfl_df, how = 'inner', on = 'NFL')\n",
    "    result = result.drop(['NFL'], axis = 1)\n",
    "    global nfl_df_final\n",
    "    nfl_df_final = result\n",
    "    \n",
    "    population_by_region = result['Population (2016 est.)[8]'] # pass in metropolitan area population from cities\n",
    "    win_loss_by_region = result['W/L%'] # pass in win/loss ratio from nfl_df in the same order as cities[\"Metropolitan area\"]\n",
    "\n",
    "    assert len(population_by_region) == len(win_loss_by_region), \"Q4: Your lists must be the same length\"\n",
    "    assert len(population_by_region) == 29, \"Q4: There should be 29 teams being analysed for NFL\"\n",
    "\n",
    "    return stats.pearsonr(population_by_region, win_loss_by_region)[0]\n",
    "\n",
    "nfl_correlation()"
   ]
  },
  {
   "cell_type": "code",
   "execution_count": null,
   "metadata": {
    "deletable": false,
    "editable": false,
    "nbgrader": {
     "checksum": "e9415d6399aa49e3a1a60813afdefa3b",
     "grade": true,
     "grade_id": "cell-de7b148b9554dbda",
     "locked": true,
     "points": 20,
     "schema_version": 1,
     "solution": false
    }
   },
   "outputs": [],
   "source": []
  },
  {
   "cell_type": "markdown",
   "metadata": {
    "deletable": false,
    "editable": false,
    "nbgrader": {
     "checksum": "b02d5cd3273f561e4ae939bb2a41740c",
     "grade": false,
     "grade_id": "cell-97b49d8639e908c4",
     "locked": true,
     "schema_version": 1,
     "solution": false
    }
   },
   "source": [
    "## Question 5\n",
    "In this question I would like you to explore the hypothesis that **given that an area has two sports teams in different sports, those teams will perform the same within their respective sports**. How I would like to see this explored is with a series of paired t-tests (so use [`ttest_rel`](https://docs.scipy.org/doc/scipy/reference/generated/scipy.stats.ttest_rel.html)) between all pairs of sports. Are there any sports where we can reject the null hypothesis? Again, average values where a sport has multiple teams in one region. Remember, you will only be including, for each sport, cities which have teams engaged in that sport, drop others as appropriate. This question is worth 20% of the grade for this assignment."
   ]
  },
  {
   "cell_type": "code",
   "execution_count": 5,
   "metadata": {
    "deletable": false,
    "nbgrader": {
     "checksum": "6d78c961eb66f8d8c81f06d33ae8f393",
     "grade": false,
     "grade_id": "cell-92f25f44b8d1179f",
     "locked": false,
     "schema_version": 1,
     "solution": true
    }
   },
   "outputs": [
    {
     "data": {
      "text/html": [
       "<div>\n",
       "<style scoped>\n",
       "    .dataframe tbody tr th:only-of-type {\n",
       "        vertical-align: middle;\n",
       "    }\n",
       "\n",
       "    .dataframe tbody tr th {\n",
       "        vertical-align: top;\n",
       "    }\n",
       "\n",
       "    .dataframe thead th {\n",
       "        text-align: right;\n",
       "    }\n",
       "</style>\n",
       "<table border=\"1\" class=\"dataframe\">\n",
       "  <thead>\n",
       "    <tr style=\"text-align: right;\">\n",
       "      <th></th>\n",
       "      <th>NFL</th>\n",
       "      <th>NBA</th>\n",
       "      <th>NHL</th>\n",
       "      <th>MLB</th>\n",
       "    </tr>\n",
       "  </thead>\n",
       "  <tbody>\n",
       "    <tr>\n",
       "      <th>NFL</th>\n",
       "      <td>NaN</td>\n",
       "      <td>0.937509</td>\n",
       "      <td>0.030318</td>\n",
       "      <td>0.803459</td>\n",
       "    </tr>\n",
       "    <tr>\n",
       "      <th>NBA</th>\n",
       "      <td>0.937509</td>\n",
       "      <td>NaN</td>\n",
       "      <td>0.022386</td>\n",
       "      <td>0.949566</td>\n",
       "    </tr>\n",
       "    <tr>\n",
       "      <th>NHL</th>\n",
       "      <td>0.030318</td>\n",
       "      <td>0.022386</td>\n",
       "      <td>NaN</td>\n",
       "      <td>0.000703</td>\n",
       "    </tr>\n",
       "    <tr>\n",
       "      <th>MLB</th>\n",
       "      <td>0.803459</td>\n",
       "      <td>0.949566</td>\n",
       "      <td>0.000703</td>\n",
       "      <td>NaN</td>\n",
       "    </tr>\n",
       "  </tbody>\n",
       "</table>\n",
       "</div>"
      ],
      "text/plain": [
       "          NFL       NBA       NHL       MLB\n",
       "NFL       NaN  0.937509  0.030318  0.803459\n",
       "NBA  0.937509       NaN  0.022386  0.949566\n",
       "NHL  0.030318  0.022386       NaN  0.000703\n",
       "MLB  0.803459  0.949566  0.000703       NaN"
      ]
     },
     "execution_count": 5,
     "metadata": {},
     "output_type": "execute_result"
    }
   ],
   "source": [
    "# Combine all W/L% tables\n",
    "nhl_df_final = nhl_df_final.rename(columns = {'W/L%' : 'NHL'})\n",
    "nba_df_final = nba_df_final.rename(columns = {'W/L%' : 'NBA'})\n",
    "mlb_df_final = mlb_df_final.rename(columns = {'W/L%' : 'MLB'})\n",
    "nfl_df_final = nfl_df_final.rename(columns = {'W/L%' : 'NFL'})\n",
    "performance = pd.merge(nhl_df_final, nba_df_final, how = 'outer', on = 'Population (2016 est.)[8]')\n",
    "performance = pd.merge(performance, mlb_df_final, how = 'outer', on = 'Population (2016 est.)[8]')\n",
    "performance = pd.merge(performance, nfl_df_final, how = 'outer', on = 'Population (2016 est.)[8]')\n",
    "\n",
    "\n",
    "def sports_team_performance():\n",
    "    \n",
    "    # Note: p_values is a full dataframe, so df.loc[\"NFL\",\"NBA\"] should be the same as df.loc[\"NBA\",\"NFL\"] and\n",
    "    # df.loc[\"NFL\",\"NFL\"] should return np.nan\n",
    "    sports = ['NFL', 'NBA', 'NHL', 'MLB']\n",
    "    p_values = pd.DataFrame({k:np.nan for k in sports}, index=sports)\n",
    "    for i in sports:\n",
    "        for j in sports:\n",
    "            if (i != j) :\n",
    "                p_values.at[i, j] = stats.ttest_rel(performance[i], performance[j], nan_policy = 'omit')[1]\n",
    "    \n",
    "    assert abs(p_values.loc[\"NBA\", \"NHL\"] - 0.02) <= 1e-2, \"The NBA-NHL p-value should be around 0.02\"\n",
    "    assert abs(p_values.loc[\"MLB\", \"NFL\"] - 0.80) <= 1e-2, \"The MLB-NFL p-value should be around 0.80\"\n",
    "    return p_values\n",
    "\n",
    "sports_team_performance()"
   ]
  },
  {
   "cell_type": "code",
   "execution_count": null,
   "metadata": {
    "deletable": false,
    "editable": false,
    "nbgrader": {
     "checksum": "2a596ab421a45cc01168d10e8fbb8f89",
     "grade": true,
     "grade_id": "cell-fb4b9cb5ff4570a6",
     "locked": true,
     "points": 20,
     "schema_version": 1,
     "solution": false
    }
   },
   "outputs": [],
   "source": []
  }
 ],
 "metadata": {
  "coursera": {
   "schema_names": [
    "mooc_adswpy_1_v2_assignment4"
   ]
  },
  "kernelspec": {
   "display_name": "Python 3",
   "language": "python",
   "name": "python3"
  },
  "language_info": {
   "codemirror_mode": {
    "name": "ipython",
    "version": 3
   },
   "file_extension": ".py",
   "mimetype": "text/x-python",
   "name": "python",
   "nbconvert_exporter": "python",
   "pygments_lexer": "ipython3",
   "version": "3.7.3"
  }
 },
 "nbformat": 4,
 "nbformat_minor": 4
}
